{
 "cells": [
  {
   "cell_type": "markdown",
   "metadata": {},
   "source": [
    "1. Даны значения величины заработной платы заемщиков банка (zp) и значения их поведенческого кредитного скоринга (ks): zp = [35, 45, 190, 200, 40, 70, 54, 150, 120, 110], ks = [401, 574, 874, 919, 459, 739, 653, 902, 746, 832]. Используя математические операции, посчитать коэффициенты линейной регрессии, приняв за X заработную плату (то есть, zp - признак), а за y - значения скорингового балла (то есть, ks - целевая переменная). Произвести расчет как с использованием intercept, так и без."
   ]
  },
  {
   "cell_type": "code",
   "execution_count": 1,
   "metadata": {},
   "outputs": [],
   "source": [
    "import numpy as np"
   ]
  },
  {
   "cell_type": "code",
   "execution_count": 3,
   "metadata": {},
   "outputs": [],
   "source": [
    "zp = np.array([35, 45, 190, 200, 40, 70, 54, 150, 120, 110])\n",
    "ks = np.array([401, 574, 874, 919, 459, 739, 653, 902, 746, 832])"
   ]
  },
  {
   "cell_type": "code",
   "execution_count": 4,
   "metadata": {},
   "outputs": [
    {
     "data": {
      "text/plain": [
       "2.620538882402765"
      ]
     },
     "execution_count": 4,
     "metadata": {},
     "output_type": "execute_result"
    }
   ],
   "source": [
    "b = (np.mean(zp * ks) - np.mean(zp) * np.mean(ks)) / (np.mean(zp**2) - np.mean(zp)**2)\n",
    "b"
   ]
  },
  {
   "cell_type": "code",
   "execution_count": 5,
   "metadata": {},
   "outputs": [
    {
     "data": {
      "text/plain": [
       "2.6205388824027653"
      ]
     },
     "execution_count": 5,
     "metadata": {},
     "output_type": "execute_result"
    }
   ],
   "source": [
    "n = 10\n",
    "b1 = (n * (zp * ks).sum() - zp.sum() * ks.sum()) / (n * (zp**2).sum() - zp.sum()**2)\n",
    "b1"
   ]
  },
  {
   "cell_type": "code",
   "execution_count": 7,
   "metadata": {},
   "outputs": [
    {
     "data": {
      "text/plain": [
       "444.1773573243596"
      ]
     },
     "execution_count": 7,
     "metadata": {},
     "output_type": "execute_result"
    }
   ],
   "source": [
    "a = np.mean(ks) - b * np.mean(zp)\n",
    "a"
   ]
  },
  {
   "cell_type": "code",
   "execution_count": 8,
   "metadata": {},
   "outputs": [
    {
     "data": {
      "text/plain": [
       "array([535.89621821, 562.10160703, 942.07974498, 968.2851338 ,\n",
       "       548.99891262, 627.61507909, 585.68645697, 837.25818968,\n",
       "       758.64202321, 732.43663439])"
      ]
     },
     "execution_count": 8,
     "metadata": {},
     "output_type": "execute_result"
    }
   ],
   "source": [
    "ks_hat = a + b * zp\n",
    "ks_hat"
   ]
  },
  {
   "cell_type": "code",
   "execution_count": 9,
   "metadata": {},
   "outputs": [
    {
     "data": {
      "text/plain": [
       "array([401, 574, 874, 919, 459, 739, 653, 902, 746, 832])"
      ]
     },
     "execution_count": 9,
     "metadata": {},
     "output_type": "execute_result"
    }
   ],
   "source": [
    "ks"
   ]
  },
  {
   "cell_type": "code",
   "execution_count": 10,
   "metadata": {},
   "outputs": [
    {
     "data": {
      "image/png": "[encoded data removed]",
      "text/plain": [
       "<Figure size 432x288 with 1 Axes>"
      ]
     },
     "metadata": {
      "needs_background": "light"
     },
     "output_type": "display_data"
    }
   ],
   "source": [
    "import matplotlib.pyplot as plt\n",
    "%matplotlib inline\n",
    "plt.scatter(zp, ks)\n",
    "plt.plot(zp, a + b * zp)\n",
    "plt.show()"
   ]
  },
  {
   "cell_type": "code",
   "execution_count": 11,
   "metadata": {},
   "outputs": [
    {
     "data": {
      "text/plain": [
       "6470.414201176658"
      ]
     },
     "execution_count": 11,
     "metadata": {},
     "output_type": "execute_result"
    }
   ],
   "source": [
    "mse = ((ks - ks_hat)**2).sum() / n\n",
    "mse"
   ]
  },
  {
   "cell_type": "code",
   "execution_count": 13,
   "metadata": {},
   "outputs": [
    {
     "data": {
      "text/plain": [
       "array([[ 35],\n",
       "       [ 45],\n",
       "       [190],\n",
       "       [200],\n",
       "       [ 40],\n",
       "       [ 70],\n",
       "       [ 54],\n",
       "       [150],\n",
       "       [120],\n",
       "       [110]])"
      ]
     },
     "execution_count": 13,
     "metadata": {},
     "output_type": "execute_result"
    }
   ],
   "source": [
    "ZP = zp.reshape((10,1))\n",
    "ZP"
   ]
  },
  {
   "cell_type": "code",
   "execution_count": 14,
   "metadata": {},
   "outputs": [
    {
     "data": {
      "text/plain": [
       "array([[401],\n",
       "       [574],\n",
       "       [874],\n",
       "       [919],\n",
       "       [459],\n",
       "       [739],\n",
       "       [653],\n",
       "       [902],\n",
       "       [746],\n",
       "       [832]])"
      ]
     },
     "execution_count": 14,
     "metadata": {},
     "output_type": "execute_result"
    }
   ],
   "source": [
    "KS = ks.reshape((10,1))\n",
    "KS"
   ]
  },
  {
   "cell_type": "code",
   "execution_count": 15,
   "metadata": {},
   "outputs": [
    {
     "data": {
      "text/plain": [
       "array([[  1.,  35.],\n",
       "       [  1.,  45.],\n",
       "       [  1., 190.],\n",
       "       [  1., 200.],\n",
       "       [  1.,  40.],\n",
       "       [  1.,  70.],\n",
       "       [  1.,  54.],\n",
       "       [  1., 150.],\n",
       "       [  1., 120.],\n",
       "       [  1., 110.]])"
      ]
     },
     "execution_count": 15,
     "metadata": {},
     "output_type": "execute_result"
    }
   ],
   "source": [
    "ZP = np.hstack([np.ones((10,1)),ZP])\n",
    "ZP"
   ]
  },
  {
   "cell_type": "code",
   "execution_count": 16,
   "metadata": {},
   "outputs": [
    {
     "data": {
      "text/plain": [
       "array([[444.17735732],\n",
       "       [  2.62053888]])"
      ]
     },
     "execution_count": 16,
     "metadata": {},
     "output_type": "execute_result"
    }
   ],
   "source": [
    "B = np.dot(np.linalg.inv(np.dot(ZP.T,ZP)),ZP.T @KS)\n",
    "B"
   ]
  },
  {
   "cell_type": "code",
   "execution_count": 17,
   "metadata": {},
   "outputs": [
    {
     "data": {
      "text/plain": [
       "array([[ 35],\n",
       "       [ 45],\n",
       "       [190],\n",
       "       [200],\n",
       "       [ 40],\n",
       "       [ 70],\n",
       "       [ 54],\n",
       "       [150],\n",
       "       [120],\n",
       "       [110]])"
      ]
     },
     "execution_count": 17,
     "metadata": {},
     "output_type": "execute_result"
    }
   ],
   "source": [
    "ZP = zp.reshape((10,1))\n",
    "ZP"
   ]
  },
  {
   "cell_type": "code",
   "execution_count": 18,
   "metadata": {},
   "outputs": [
    {
     "data": {
      "text/plain": [
       "array([[5.88982042]])"
      ]
     },
     "execution_count": 18,
     "metadata": {},
     "output_type": "execute_result"
    }
   ],
   "source": [
    "B = np.dot(np.linalg.inv(np.dot(ZP.T,ZP)),ZP.T @KS)\n",
    "B"
   ]
  },
  {
   "cell_type": "code",
   "execution_count": 19,
   "metadata": {},
   "outputs": [
    {
     "data": {
      "image/png": "[encoded data removed]",
      "text/plain": [
       "<Figure size 432x288 with 1 Axes>"
      ]
     },
     "metadata": {
      "needs_background": "light"
     },
     "output_type": "display_data"
    }
   ],
   "source": [
    "plt.scatter(zp, ks)\n",
    "plt.plot(zp, 5.8898 * zp)\n",
    "plt.show()"
   ]
  },
  {
   "cell_type": "code",
   "execution_count": 20,
   "metadata": {},
   "outputs": [
    {
     "data": {
      "text/plain": [
       "array([ 206.143 ,  265.041 , 1119.062 , 1177.96  ,  235.592 ,  412.286 ,\n",
       "        318.0492,  883.47  ,  706.776 ,  647.878 ])"
      ]
     },
     "execution_count": 20,
     "metadata": {},
     "output_type": "execute_result"
    }
   ],
   "source": [
    "ks_hat = 5.8898 * zp\n",
    "ks_hat"
   ]
  },
  {
   "cell_type": "code",
   "execution_count": 21,
   "metadata": {},
   "outputs": [
    {
     "data": {
      "text/plain": [
       "56516.858421464"
      ]
     },
     "execution_count": 21,
     "metadata": {},
     "output_type": "execute_result"
    }
   ],
   "source": [
    "mse = ((ks - ks_hat)**2).sum() / n\n",
    "mse"
   ]
  },
  {
   "cell_type": "markdown",
   "metadata": {},
   "source": [
    "2. Посчитать коэффициент линейной регрессии при заработной плате (zp), используя градиентный спуск (без intercept).\n",
    "\n",
    "$mse=\\frac{\\sum (\\beta_1 \\cdot zp - ks)^2}{n}$\n",
    "\n",
    "$mse'=\\frac{2\\sum (\\beta_1 \\cdot zp - ks) \\cdot zp}{n}$"
   ]
  },
  {
   "cell_type": "code",
   "execution_count": 23,
   "metadata": {},
   "outputs": [],
   "source": [
    "def mse(beta1,ks=ks,zp=zp,n=10):\n",
    "    return np.sum((beta1 * zp - ks)**2) / n"
   ]
  },
  {
   "cell_type": "code",
   "execution_count": 24,
   "metadata": {},
   "outputs": [
    {
     "data": {
      "text/plain": [
       "56516.858421464"
      ]
     },
     "execution_count": 24,
     "metadata": {},
     "output_type": "execute_result"
    }
   ],
   "source": [
    "mse(5.8898)"
   ]
  },
  {
   "cell_type": "code",
   "execution_count": 28,
   "metadata": {},
   "outputs": [],
   "source": [
    "alpha = 1e-6\n",
    "beta1 = 1\n",
    "n = 10"
   ]
  },
  {
   "cell_type": "code",
   "execution_count": 30,
   "metadata": {},
   "outputs": [
    {
     "name": "stdout",
     "output_type": "stream",
     "text": [
      "beta1 = 5.8898204201291975, mse = 56516.8584157194\n",
      "beta1 = 5.889820420132476, mse = 56516.85841571941\n",
      "beta1 = 5.889820420132673, mse = 56516.85841571943\n",
      "beta1 = 5.889820420132673, mse = 56516.85841571943\n",
      "beta1 = 5.889820420132673, mse = 56516.85841571943\n",
      "beta1 = 5.889820420132673, mse = 56516.85841571943\n",
      "beta1 = 5.889820420132673, mse = 56516.85841571943\n",
      "beta1 = 5.889820420132673, mse = 56516.85841571943\n",
      "beta1 = 5.889820420132673, mse = 56516.85841571943\n",
      "beta1 = 5.889820420132673, mse = 56516.85841571943\n"
     ]
    }
   ],
   "source": [
    "for i in range(1000):\n",
    "    beta1 -= alpha * (2 / n) * np.sum((beta1 * zp - ks) * zp)\n",
    "    if i % 100 == 0:\n",
    "        print(f'beta1 = {beta1}, mse = {mse(beta1)}')"
   ]
  },
  {
   "cell_type": "markdown",
   "metadata": {},
   "source": [
    "3. (необязательная) Произвести вычисления как в пункте 2, но с вычислением intercept. Учесть, что изменение коэффициентов должно производиться на каждом шаге одновременно (то есть изменение одного коэффициента не должно влиять на изменение другого во время одной итерации).\n",
    "\n",
    "$mse=\\frac{\\sum (\\beta_0 + \\beta_1 \\cdot zp - ks)^2}{n}$\n",
    "\n",
    "$mse'_0=\\frac{2\\sum (\\beta_0 + \\beta_1 \\cdot zp - ks)}{n}$\n",
    "\n",
    "$mse'_1=\\frac{2\\sum (\\beta_0 + \\beta_1 \\cdot zp - ks) \\cdot zp}{n}$"
   ]
  },
  {
   "cell_type": "code",
   "execution_count": 31,
   "metadata": {},
   "outputs": [],
   "source": [
    "def mse_(beta0,beta1,ks=ks,zp=zp,n=10):\n",
    "    return np.sum((beta0 + beta1 * zp - ks)**2) / n"
   ]
  },
  {
   "cell_type": "code",
   "execution_count": 32,
   "metadata": {},
   "outputs": [
    {
     "data": {
      "text/plain": [
       "6470.417097199999"
      ]
     },
     "execution_count": 32,
     "metadata": {},
     "output_type": "execute_result"
    }
   ],
   "source": [
    "mse_(444.177,2.621)"
   ]
  },
  {
   "cell_type": "code",
   "execution_count": 55,
   "metadata": {},
   "outputs": [],
   "source": [
    "alpha = 2e-5\n",
    "beta0 = 3\n",
    "beta1 = 3\n",
    "n = 10"
   ]
  },
  {
   "cell_type": "code",
   "execution_count": 56,
   "metadata": {},
   "outputs": [
    {
     "name": "stdout",
     "output_type": "stream",
     "text": [
      "beta0 = 3.016108, beta1 = 4.580242665952, mse = 78672.0519959165\n",
      "beta0 = 45.59068811457183, beta1 = 5.554283227590901, mse = 46770.49657408121\n",
      "beta0 = 84.04884294698692, beta1 = 5.271217076659035, mse = 39368.862445060644\n",
      "beta0 = 118.79631253233572, beta1 = 5.015462932628795, mse = 33326.634663475124\n",
      "beta0 = 150.1911271781775, beta1 = 4.784385560879087, mse = 28394.140577956867\n",
      "beta0 = 178.55677217070775, beta1 = 4.575603990839547, mse = 24367.56316592687\n",
      "beta0 = 204.1855208962173, beta1 = 4.386966982991858, mse = 21080.519051130723\n",
      "beta0 = 227.34144636198178, beta1 = 4.216530862969417, mse = 18397.183327760205\n",
      "beta0 = 248.26314214661835, beta1 = 4.06253949436291, mse = 16206.677100020552\n",
      "beta0 = 267.1661808160096, beta1 = 3.9234061838757732, mse = 14418.485823030753\n",
      "beta0 = 284.24533513575153, beta1 = 3.79769733238439, mse = 12958.719124991283\n",
      "beta0 = 299.67658496702154, beta1 = 3.6841176634470774, mse = 11767.057561642176\n",
      "beta0 = 313.6189305244864, beta1 = 3.5814968770596054, mse = 10794.260138964239\n",
      "beta0 = 326.2160306796407, beta1 = 3.4887775911406353, mse = 10000.129611745597\n",
      "beta0 = 337.5976831903327, beta1 = 3.4050044464984985, mse = 9351.851481521142\n",
      "beta0 = 347.8811621083848, beta1 = 3.3293142630196884, mse = 8822.638059139335\n",
      "beta0 = 357.1724261457155, beta1 = 3.2609271456501854, mse = 8390.621562867893\n",
      "beta0 = 365.5672104496802, beta1 = 3.1991384485277834, mse = 8037.950513424922\n",
      "beta0 = 373.1520130370289, beta1 = 3.1433115144656942, mse = 7750.052087812383\n",
      "beta0 = 380.004986050514, beta1 = 3.0928711149764254, mse = 7515.029951458513\n",
      "beta0 = 386.19674102141227, beta1 = 3.047297523243726, mse = 7323.172686318055\n",
      "beta0 = 391.7910764352843, beta1 = 3.006121158971256, mse = 7166.552502541997\n",
      "beta0 = 396.8456350975712, beta1 = 2.9689177499302453, mse = 7038.697651968086\n",
      "beta0 = 401.41249807242156, beta1 = 2.9353039603514857, mse = 6934.325007132897\n",
      "beta0 = 405.53872131455364, beta1 = 2.904933441117644, mse = 6849.1217556255015\n",
      "beta0 = 409.2668205235034, beta1 = 2.8774932610578334, mse = 6779.567189111471\n",
      "beta0 = 412.63520921606334, beta1 = 2.852700682573498, mse = 6722.787223119945\n",
      "beta0 = 415.67859453073316, beta1 = 2.830300248372218, mse = 6676.43563616349\n",
      "beta0 = 418.42833484247353, beta1 = 2.810061149291716, mse = 6638.59712083747\n",
      "beta0 = 420.91276287253004, beta1 = 2.791774846092828, mse = 6607.708140845793\n",
      "beta0 = 423.1574776225637, beta1 = 2.775252920717031, mse = 6582.492323663086\n",
      "beta0 = 425.18560814116057, beta1 = 2.760325134868013, mse = 6561.907719174296\n",
      "beta0 = 427.01805184047976, beta1 = 2.7468376759135746, mse = 6545.103744950883\n",
      "beta0 = 428.6736898186006, beta1 = 2.7346515720340334, mse = 6531.38603908703\n",
      "beta0 = 430.1695814062156, beta1 = 2.7236412602870788, mse = 6520.187768269354\n",
      "beta0 = 431.52113994224555, beta1 = 2.713693292834656, mse = 6511.046205492689\n",
      "beta0 = 432.74229158948947, beta1 = 2.704705168001426, mse = 6503.583609582992\n",
      "beta0 = 433.84561882675774, beta1 = 2.6965842741199393, mse = 6497.491616444403\n",
      "beta0 = 434.8424900959766, beta1 = 2.6892469352803103, mse = 6492.518497056782\n",
      "beta0 = 435.743176940122, beta1 = 2.6826175491519795, mse = 6488.458755707613\n",
      "beta0 = 436.556959838943, beta1 = 2.676627807993902, mse = 6485.144638643954\n",
      "beta0 = 437.2922238329938, beta1 = 2.671215994826534, mse = 6482.439202270785\n",
      "beta0 = 437.95654492124834, beta1 = 2.666326347513642, mse = 6480.2306544649455\n",
      "beta0 = 438.5567681225322, beta1 = 2.661908484201484, mse = 6478.427735180261\n",
      "beta0 = 439.0990780051022, beta1 = 2.6579168841951826, mse = 6476.9559454646405\n",
      "beta0 = 439.589062411075, beta1 = 2.6543104189235196, mse = 6475.75446906722\n",
      "beta0 = 440.03177003233674, beta1 = 2.651051928159081, mse = 6474.773659432359\n",
      "beta0 = 440.4317624311404, beta1 = 2.64810783712755, mse = 6473.972988239904\n",
      "beta0 = 440.7931610414563, beta1 = 2.6454478105604924, mse = 6473.319370722663\n",
      "beta0 = 441.11968963532155, beta1 = 2.6430444401274227, mse = 6472.785798561117\n",
      "beta0 = 441.4147126917748, beta1 = 2.640872962026347, mse = 6472.350223864798\n",
      "beta0 = 441.6812700636948, beta1 = 2.6389110018230895, mse = 6471.994648125015\n",
      "beta0 = 441.92210829979433, beta1 = 2.6371383439099114, mse = 6471.704378493212\n",
      "beta0 = 442.1397089444531, beta1 = 2.635536723208339, mse = 6471.467420653515\n",
      "beta0 = 442.33631410699616, beta1 = 2.6340896369698834, mse = 6471.2739832021225\n",
      "beta0 = 442.513949563913, beta1 = 2.6327821747352136, mse = 6471.116073053841\n",
      "beta0 = 442.67444563200195, beta1 = 2.6316008647001476, mse = 6470.987165157523\n",
      "beta0 = 442.81945602755513, beta1 = 2.630533534905122, mse = 6470.8819328724785\n",
      "beta0 = 442.9504749058912, beta1 = 2.629569187817967, mse = 6470.796027864867\n",
      "beta0 = 443.0688522568059, beta1 = 2.628697887017735, mse = 6470.725900428883\n",
      "beta0 = 443.1758078145649, beta1 = 2.627910654812042, mse = 6470.668652808346\n",
      "beta0 = 443.27244362578455, beta1 = 2.6271993797328466, mse = 6470.621919457681\n",
      "beta0 = 443.35975540467473, beta1 = 2.6265567329576918, mse = 6470.583769294522\n",
      "beta0 = 443.43864279265574, beta1 = 2.6259760927951525, mse = 6470.552625904866\n",
      "beta0 = 443.50991862808, beta1 = 2.6254514764562793, mse = 6470.527202403663\n",
      "beta0 = 443.5743173215292, beta1 = 2.624977478409334, mse = 6470.50644825903\n",
      "beta0 = 443.6325024230151, beta1 = 2.6245492146824083, mse = 6470.4895058829115\n",
      "beta0 = 443.6850734590701, beta1 = 2.6241622725399307, mse = 6470.475675194462\n",
      "beta0 = 443.7325721101161, beta1 = 2.6238126650149565, mse = 6470.464384691777\n",
      "beta0 = 443.77548779184406, beta1 = 2.623496789828165, mse = 6470.455167836712\n",
      "beta0 = 443.8142626980255, beta1 = 2.6232113922709144, mse = 6470.447643776926\n",
      "beta0 = 443.8492963567922, beta1 = 2.6229535316693497, mse = 6470.4415016085495\n",
      "beta0 = 443.8809497472854, beta1 = 2.6227205510843503, mse = 6470.436487529261\n",
      "beta0 = 443.9095490190958, beta1 = 2.622510049935086, mse = 6470.432394350829\n",
      "beta0 = 443.93538885284954, beta1 = 2.6223198592638672, mse = 6470.429052937832\n",
      "beta0 = 443.9587354965264, beta1 = 2.6221480193877325, mse = 6470.42632521879\n",
      "beta0 = 443.97982950882994, beta1 = 2.6219927597062296, mse = 6470.424098480806\n",
      "beta0 = 443.99888823783425, beta1 = 2.6218524804576693, mse = 6470.422280712212\n",
      "beta0 = 444.01610806050167, beta1 = 2.6217257362354505, mse = 6470.420796800453\n",
      "beta0 = 444.0316664061148, beta1 = 2.6216112210948577, mse = 6470.41958542838\n",
      "beta0 = 444.045723584451, beta1 = 2.6215077550970234, mse = 6470.418596540543\n",
      "beta0 = 444.0584244375938, beta1 = 2.6214142721509917, mse = 6470.417789274814\n",
      "beta0 = 444.0698998323506, beta1 = 2.6213298090289734, mse = 6470.417130273937\n",
      "beta0 = 444.08026800867225, beta1 = 2.621253495441482, mse = 6470.416592307133\n",
      "beta0 = 444.0896357979721, beta1 = 2.621184545070061, mse = 6470.4161531449345\n",
      "beta0 = 444.09809972389996, beta1 = 2.621122247465181, mse = 6470.415794640577\n",
      "beta0 = 444.10574699689045, beta1 = 2.621065960725997, mse = 6470.415501980212\n",
      "beta0 = 444.1126564127698, beta1 = 2.6210151048862755, mse = 6470.415263070728\n",
      "beta0 = 444.11889916464077, beta1 = 2.6209691559386195, mse = 6470.415068040069\n",
      "beta0 = 444.1245395764517, beta1 = 2.6209276404351343, mse = 6470.414908829332\n",
      "beta0 = 444.12963576577175, beta1 = 2.6208901306091548, mse = 6470.4147788597165\n",
      "beta0 = 444.13424024261764, beta1 = 2.620856239967664, mse = 6470.414672760715\n",
      "beta0 = 444.1384004505069, beta1 = 2.6208256193089396, mse = 6470.414586148169\n",
      "beta0 = 444.1421592553091, beta1 = 2.620797953124431, mse = 6470.414515443148\n",
      "beta0 = 444.145555386929, beta1 = 2.6207729563478073, mse = 6470.414457724019\n",
      "beta0 = 444.1486238383546, beta1 = 2.6207503714178193, mse = 6470.414410605762\n",
      "beta0 = 444.15139622624196, beta1 = 2.62072996562426, mse = 6470.414372141382\n",
      "beta0 = 444.1539011166666, beta1 = 2.620711528710318, mse = 6470.41434074149\n",
      "beta0 = 444.15616431947, beta1 = 2.6206948707060764, mse = 6470.414315108593\n",
      "beta0 = 444.15820915419755, beta1 = 2.6206798199711114, mse = 6470.414294183511\n",
      "beta0 = 444.1600566903799, beta1 = 2.6206662214259357, mse = 6470.414277101596\n",
      "beta0 = 444.16172596462417, beta1 = 2.6206539349541274, mse = 6470.414263156991\n",
      "beta0 = 444.16323417676307, beta1 = 2.6206428339585957, mse = 6470.414251773496\n",
      "beta0 = 444.1645968670873, beta1 = 2.6206328040570916, mse = 6470.414242480733\n"
     ]
    },
    {
     "name": "stdout",
     "output_type": "stream",
     "text": [
      "beta0 = 444.16582807645744, beta1 = 2.620623741903722, mse = 6470.414234894703\n",
      "beta0 = 444.16694049098265, beta1 = 2.6206155541240626, mse = 6470.414228701944\n",
      "beta0 = 444.1679455727436, beta1 = 2.620608156352987, mse = 6470.41422364657\n",
      "beta0 = 444.1688536778784, beta1 = 2.620601472365513, mse = 6470.414219519672\n",
      "beta0 = 444.1696741633061, beta1 = 2.62059543329128, mse = 6470.414216150745\n",
      "beta0 = 444.17041548312335, beta1 = 2.6205899769050287, mse = 6470.414213400557\n",
      "beta0 = 444.17108527573225, beta1 = 2.620585046985313, mse = 6470.414211155481\n",
      "beta0 = 444.17169044252984, beta1 = 2.620580592735316, mse = 6470.414209322742\n",
      "beta0 = 444.1722372190179, beta1 = 2.6205765682594517, mse = 6470.414207826608\n",
      "beta0 = 444.1727312390633, beta1 = 2.620572932090391, mse = 6470.414206605256\n",
      "beta0 = 444.1731775929368, beta1 = 2.6205696467618704, mse = 6470.414205608223\n",
      "beta0 = 444.1735808797765, beta1 = 2.620566678422543, mse = 6470.414204794312\n",
      "beta0 = 444.1739452549581, beta1 = 2.620563996487318, mse = 6470.414204129879\n",
      "beta0 = 444.1742744729285, beta1 = 2.6205615733220853, mse = 6470.414203587483\n",
      "beta0 = 444.17457192587216, beta1 = 2.6205593839591215, mse = 6470.4142031447045\n",
      "beta0 = 444.1748406786772, beta1 = 2.620557405839724, mse = 6470.414202783251\n",
      "beta0 = 444.17508350051924, beta1 = 2.6205556185817422, mse = 6470.414202488178\n",
      "beta0 = 444.1753028933779, beta1 = 2.620554003769687, mse = 6470.414202247297\n",
      "beta0 = 444.17550111783214, beta1 = 2.6205525447648665, mse = 6470.41420205066\n",
      "beta0 = 444.17568021634014, beta1 = 2.620551226534038, mse = 6470.41420189014\n",
      "beta0 = 444.1758420342934, beta1 = 2.6205500354944427, mse = 6470.414201759105\n",
      "beta0 = 444.1759882390339, beta1 = 2.6205489593738296, mse = 6470.414201652127\n",
      "beta0 = 444.17612033701806, beta1 = 2.6205479870841275, mse = 6470.4142015647985\n",
      "beta0 = 444.1762396893553, beta1 = 2.6205471086070693, mse = 6470.41420149351\n",
      "beta0 = 444.17634752583, beta1 = 2.620546314890991, mse = 6470.414201435318\n",
      "beta0 = 444.17644495756065, beta1 = 2.6205455977576526, mse = 6470.414201387811\n",
      "beta0 = 444.1765329884612, beta1 = 2.6205449498178783, mse = 6470.41420134903\n",
      "beta0 = 444.1766125255866, beta1 = 2.620544364395409, mse = 6470.414201317372\n",
      "beta0 = 444.17668438846783, beta1 = 2.6205438354581974, mse = 6470.4142012915245\n",
      "beta0 = 444.1767493175651, beta1 = 2.6205433575561834, mse = 6470.414201270433\n",
      "beta0 = 444.1768079818931, beta1 = 2.620542925765174, mse = 6470.414201253209\n",
      "beta0 = 444.17686098591804, beta1 = 2.6205425356360736, mse = 6470.414201239151\n",
      "beta0 = 444.17690887577976, beta1 = 2.620542183149094, mse = 6470.414201227673\n",
      "beta0 = 444.1769521449256, beta1 = 2.6205418646722816, mse = 6470.414201218305\n",
      "beta0 = 444.17699123919255, beta1 = 2.6205415769241123, mse = 6470.414201210651\n",
      "beta0 = 444.1770265613977, beta1 = 2.6205413169397027, mse = 6470.414201204412\n",
      "beta0 = 444.17705847549274, beta1 = 2.6205410820402366, mse = 6470.414201199313\n",
      "beta0 = 444.1770873103189, beta1 = 2.620540869805321, mse = 6470.4142011951535\n",
      "beta0 = 444.17711336297623, beta1 = 2.62054067804819, mse = 6470.414201191759\n",
      "beta0 = 444.1771369019088, beta1 = 2.620540504792997, mse = 6470.414201188982\n",
      "beta0 = 444.17715816965676, beta1 = 2.620540348254557, mse = 6470.414201186718\n",
      "beta0 = 444.1771773853588, beta1 = 2.6205402068199297, mse = 6470.414201184872\n",
      "beta0 = 444.1771947470082, beta1 = 2.6205400790318105, mse = 6470.4142011833665\n",
      "beta0 = 444.1772104334956, beta1 = 2.620539963573499, mse = 6470.414201182131\n",
      "beta0 = 444.17722460645115, beta1 = 2.620539859255339, mse = 6470.4142011811255\n",
      "beta0 = 444.1772374119113, beta1 = 2.6205397650024467, mse = 6470.414201180308\n",
      "beta0 = 444.17724898181996, beta1 = 2.620539679843667, mse = 6470.414201179633\n",
      "beta0 = 444.17725943539114, beta1 = 2.6205396029015424, mse = 6470.41420117909\n",
      "beta0 = 444.17726888033746, beta1 = 2.620539533383267, mse = 6470.414201178644\n",
      "beta0 = 444.17727741397454, beta1 = 2.620539470572562, mse = 6470.41420117828\n",
      "beta0 = 444.1772851242329, beta1 = 2.6205394138222275, mse = 6470.414201177981\n",
      "beta0 = 444.1772920905566, beta1 = 2.6205393625475257, mse = 6470.414201177738\n",
      "beta0 = 444.17729838472616, beta1 = 2.6205393162201247, mse = 6470.41420117754\n",
      "beta0 = 444.1773040715933, beta1 = 2.620539274362693, mse = 6470.414201177376\n",
      "beta0 = 444.1773092097555, beta1 = 2.620539236543931, mse = 6470.414201177249\n",
      "beta0 = 444.1773138521555, beta1 = 2.620539202374161, mse = 6470.414201177142\n",
      "beta0 = 444.1773180466277, beta1 = 2.6205391715013047, mse = 6470.41420117705\n",
      "beta0 = 444.17732183639066, beta1 = 2.6205391436072567, mse = 6470.41420117698\n",
      "beta0 = 444.17732526049343, beta1 = 2.620539118404602, mse = 6470.414201176919\n",
      "beta0 = 444.1773283542178, beta1 = 2.620539095633654, mse = 6470.414201176875\n",
      "beta0 = 444.1773311494404, beta1 = 2.620539075059788, mse = 6470.414201176829\n",
      "beta0 = 444.1773336749615, beta1 = 2.6205390564710247, mse = 6470.4142011768035\n",
      "beta0 = 444.1773359568051, beta1 = 2.6205390396758177, mse = 6470.414201176776\n",
      "beta0 = 444.1773380184822, beta1 = 2.6205390245011166, mse = 6470.414201176756\n",
      "beta0 = 444.1773398812346, beta1 = 2.6205390107905746, mse = 6470.414201176735\n",
      "beta0 = 444.1773415642569, beta1 = 2.6205389984029126, mse = 6470.414201176721\n",
      "beta0 = 444.1773430848907, beta1 = 2.6205389872104887, mse = 6470.41420117671\n",
      "beta0 = 444.1773444588044, beta1 = 2.6205389770979792, mse = 6470.414201176702\n",
      "beta0 = 444.177345700154, beta1 = 2.62053896796119, mse = 6470.414201176693\n",
      "beta0 = 444.1773468217307, beta1 = 2.6205389597059736, mse = 6470.414201176685\n",
      "beta0 = 444.1773478350905, beta1 = 2.620538952247273, mse = 6470.41420117668\n",
      "beta0 = 444.17734875067515, beta1 = 2.6205389455082333, mse = 6470.414201176676\n",
      "beta0 = 444.17734957791805, beta1 = 2.6205389394194216, mse = 6470.414201176673\n",
      "beta0 = 444.177350325344, beta1 = 2.6205389339180916, mse = 6470.414201176669\n",
      "beta0 = 444.1773510006533, beta1 = 2.6205389289475676, mse = 6470.414201176667\n",
      "beta0 = 444.17735161080407, beta1 = 2.6205389244566333, mse = 6470.414201176672\n",
      "beta0 = 444.1773521620842, beta1 = 2.620538920399009, mse = 6470.414201176664\n",
      "beta0 = 444.17735266017314, beta1 = 2.6205389167328916, mse = 6470.414201176666\n",
      "beta0 = 444.1773531102027, beta1 = 2.6205389134205084, mse = 6470.414201176664\n",
      "beta0 = 444.17735351681137, beta1 = 2.6205389104277197, mse = 6470.41420117666\n",
      "beta0 = 444.17735388418686, beta1 = 2.620538907723701, mse = 6470.414201176662\n",
      "beta0 = 444.1773542161163, beta1 = 2.620538905280578, mse = 6470.414201176663\n",
      "beta0 = 444.17735451601936, beta1 = 2.6205389030731814, mse = 6470.414201176662\n",
      "beta0 = 444.17735478698523, beta1 = 2.6205389010787727, mse = 6470.414201176657\n",
      "beta0 = 444.1773550318073, beta1 = 2.620538899276793, mse = 6470.4142011766635\n",
      "beta0 = 444.1773552530073, beta1 = 2.6205388976486796, mse = 6470.414201176657\n",
      "beta0 = 444.1773554528637, beta1 = 2.6205388961776626, mse = 6470.414201176664\n",
      "beta0 = 444.1773556334374, beta1 = 2.620538894848574, mse = 6470.41420117666\n",
      "beta0 = 444.17735579658853, beta1 = 2.620538893647722, mse = 6470.414201176663\n",
      "beta0 = 444.17735594399807, beta1 = 2.6205388925627333, mse = 6470.414201176659\n",
      "beta0 = 444.177356077184, beta1 = 2.6205388915824357, mse = 6470.414201176658\n",
      "beta0 = 444.1773561975175, beta1 = 2.620538890696737, mse = 6470.414201176659\n",
      "beta0 = 444.1773563062427, beta1 = 2.62053888989648, mse = 6470.414201176656\n",
      "beta0 = 444.17735640447626, beta1 = 2.620538889173445, mse = 6470.414201176662\n",
      "beta0 = 444.1773564932336, beta1 = 2.6205388885201577, mse = 6470.414201176658\n",
      "beta0 = 444.1773565734231, beta1 = 2.620538887929934, mse = 6470.41420117666\n"
     ]
    }
   ],
   "source": [
    "for i in range(2000000):\n",
    "    beta0 -= alpha * (2 / n) * np.sum(beta0 + beta1 * zp - ks)\n",
    "    beta1 -= alpha * (2 / n) * np.sum((beta0 + beta1 * zp - ks) * zp)\n",
    "    if i % 10000 == 0:\n",
    "        print(f'beta0 = {beta0}, beta1 = {beta1}, mse = {mse_(beta0,beta1)}')"
   ]
  },
  {
   "cell_type": "code",
   "execution_count": null,
   "metadata": {},
   "outputs": [],
   "source": []
  }
 ],
 "metadata": {
  "kernelspec": {
   "display_name": "Python 3",
   "language": "python",
   "name": "python3"
  },
  "language_info": {
   "codemirror_mode": {
    "name": "ipython",
    "version": 3
   },
   "file_extension": ".py",
   "mimetype": "text/x-python",
   "name": "python",
   "nbconvert_exporter": "python",
   "pygments_lexer": "ipython3",
   "version": "3.8.5"
  }
 },
 "nbformat": 4,
 "nbformat_minor": 4
}
