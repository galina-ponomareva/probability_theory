{
 "cells": [
  {
   "cell_type": "code",
   "execution_count": 5,
   "metadata": {},
   "outputs": [],
   "source": [
    "from math import factorial, exp"
   ]
  },
  {
   "cell_type": "code",
   "execution_count": 2,
   "metadata": {},
   "outputs": [],
   "source": [
    "def combinations(n, k):\n",
    "    return int(factorial(n) / (factorial(k) * factorial(n - k)))"
   ]
  },
  {
   "cell_type": "markdown",
   "metadata": {},
   "source": [
    "1. Вероятность того, что стрелок попадет в мишень, выстрелив один раз, равна 0.8. Стрелок выстрелил 100 раз. Найдите вероятность того, что стрелок попадет в цель ровно 85 раз.\n",
    "\n",
    "$p=0.8$\n",
    "\n",
    "$q=1-p=1-0.8=0.2$\n",
    "\n",
    "Вычислим искомую вероятность по формуле Бернулли:"
   ]
  },
  {
   "cell_type": "code",
   "execution_count": 3,
   "metadata": {},
   "outputs": [
    {
     "data": {
      "text/plain": [
       "0.048061793700746556"
      ]
     },
     "execution_count": 3,
     "metadata": {},
     "output_type": "execute_result"
    }
   ],
   "source": [
    "p = 0.8\n",
    "q = 0.2\n",
    "\n",
    "P = combinations(100, 85) * p**85 * q**15\n",
    "P"
   ]
  },
  {
   "cell_type": "markdown",
   "metadata": {},
   "source": [
    "2. Вероятность того, что лампочка перегорит в течение первого дня эксплуатации, равна 0.0004. В жилом комплексе после ремонта в один день включили 5000 новых лампочек. Какова вероятность, что ни одна из них не перегорит в первый день? Какова вероятность, что перегорят ровно две?\n",
    "\n",
    "$n=5000$\n",
    "\n",
    "$p=0.0004$\n",
    "\n",
    "$\\lambda=np=5000\\cdot0.0004=2$\n",
    "\n",
    "Вычислим искомую вероятность по формуле Пуассона:\n",
    "\n",
    "а) $m=0$"
   ]
  },
  {
   "cell_type": "code",
   "execution_count": 6,
   "metadata": {},
   "outputs": [
    {
     "data": {
      "text/plain": [
       "0.1353352832366127"
      ]
     },
     "execution_count": 6,
     "metadata": {},
     "output_type": "execute_result"
    }
   ],
   "source": [
    "m = 0\n",
    "n = 5000\n",
    "p = 0.0004\n",
    "lam = n * p\n",
    "\n",
    "P = lam**m * exp(-lam) / factorial(m)\n",
    "P"
   ]
  },
  {
   "cell_type": "markdown",
   "metadata": {},
   "source": [
    "б) $m=2$"
   ]
  },
  {
   "cell_type": "code",
   "execution_count": 7,
   "metadata": {},
   "outputs": [
    {
     "data": {
      "text/plain": [
       "0.2706705664732254"
      ]
     },
     "execution_count": 7,
     "metadata": {},
     "output_type": "execute_result"
    }
   ],
   "source": [
    "m = 2\n",
    "n = 5000\n",
    "p = 0.0004\n",
    "lam = n * p\n",
    "\n",
    "P = lam**m * exp(-lam) / factorial(m)\n",
    "P"
   ]
  },
  {
   "cell_type": "markdown",
   "metadata": {},
   "source": [
    "3. Монету подбросили 144 раза. Какова вероятность, что орел выпадет ровно 70 раз?\n",
    "\n",
    "$p=0.5$\n",
    "\n",
    "$q=1-p=1-0.5=0.5$\n",
    "\n",
    "Вычислим искомую вероятность по формуле Бернулли:"
   ]
  },
  {
   "cell_type": "code",
   "execution_count": 8,
   "metadata": {},
   "outputs": [
    {
     "data": {
      "text/plain": [
       "0.06281178035144776"
      ]
     },
     "execution_count": 8,
     "metadata": {},
     "output_type": "execute_result"
    }
   ],
   "source": [
    "p = 0.5\n",
    "q = 0.5\n",
    "\n",
    "P = combinations(144, 70) * p**70 * q**74\n",
    "P"
   ]
  },
  {
   "cell_type": "markdown",
   "metadata": {},
   "source": [
    "4. В первом ящике находится 10 мячей, из которых 7 - белые. Во втором ящике - 11 мячей, из которых 9 белых. Из каждого ящика вытаскивают случайным образом по два мяча. Какова вероятность того, что все мячи белые? Какова вероятность того, что ровно два мяча белые? Какова вероятность того, что хотя бы один мяч белый?\n",
    "\n",
    "1 ящик: 7 белых + 3 не белых\n",
    "\n",
    "2 ящик: 9 белых + 2 не белых\n",
    "\n",
    "а) Вероятность того, что все мячи белые:\n",
    "\n",
    "$P\\{все белые\\} = P_1\\{2 белых\\} \\cdot P_2\\{2 белых\\}$"
   ]
  },
  {
   "cell_type": "code",
   "execution_count": 9,
   "metadata": {},
   "outputs": [
    {
     "data": {
      "text/plain": [
       "0.3054545454545455"
      ]
     },
     "execution_count": 9,
     "metadata": {},
     "output_type": "execute_result"
    }
   ],
   "source": [
    "P1_2w = combinations(7, 2) / combinations(10, 2)\n",
    "P2_2w = combinations(9, 2) / combinations(11, 2)\n",
    "\n",
    "P = P1_2w * P2_2w\n",
    "P"
   ]
  },
  {
   "cell_type": "markdown",
   "metadata": {},
   "source": [
    "б) Вероятность того, что ровно два мяча белые:\n",
    "\n",
    "$P\\{2 белых\\} = P_1\\{2 белых\\} \\cdot P_2\\{0 белых\\} + P_1\\{1 белый\\} \\cdot P_2\\{1 белый\\} + P_1\\{0 белых\\} \\cdot P_2\\{2 белых\\}$"
   ]
  },
  {
   "cell_type": "code",
   "execution_count": 12,
   "metadata": {},
   "outputs": [
    {
     "data": {
      "text/plain": [
       "0.20484848484848486"
      ]
     },
     "execution_count": 12,
     "metadata": {},
     "output_type": "execute_result"
    }
   ],
   "source": [
    "P1_1w = combinations(7, 1) * combinations(3, 1) / combinations(10, 2)\n",
    "P2_1w = combinations(9, 1) * combinations(2, 1) / combinations(11, 2)\n",
    "\n",
    "P1_0w = combinations(3, 2) / combinations(10, 2)\n",
    "P2_0w = combinations(2, 2) / combinations(11, 2)\n",
    "\n",
    "P = P1_2w * P2_0w + P1_1w * P2_1w + P1_0w * P2_2w\n",
    "P"
   ]
  },
  {
   "cell_type": "markdown",
   "metadata": {},
   "source": [
    "в) Вероятность того, что хотя бы один мяч белый:\n",
    "\n",
    "$P\\{хотя бы 1 белый\\} = 1 - P_1\\{0 белых\\} \\cdot P_2\\{0 белых\\}$"
   ]
  },
  {
   "cell_type": "code",
   "execution_count": 11,
   "metadata": {},
   "outputs": [
    {
     "data": {
      "text/plain": [
       "0.9987878787878788"
      ]
     },
     "execution_count": 11,
     "metadata": {},
     "output_type": "execute_result"
    }
   ],
   "source": [
    "P = 1 - P1_0w * P2_0w\n",
    "P"
   ]
  },
  {
   "cell_type": "code",
   "execution_count": null,
   "metadata": {},
   "outputs": [],
   "source": []
  }
 ],
 "metadata": {
  "kernelspec": {
   "display_name": "Python 3",
   "language": "python",
   "name": "python3"
  },
  "language_info": {
   "codemirror_mode": {
    "name": "ipython",
    "version": 3
   },
   "file_extension": ".py",
   "mimetype": "text/x-python",
   "name": "python",
   "nbconvert_exporter": "python",
   "pygments_lexer": "ipython3",
   "version": "3.8.5"
  }
 },
 "nbformat": 4,
 "nbformat_minor": 4
}
