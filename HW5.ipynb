{
 "cells": [
  {
   "cell_type": "markdown",
   "metadata": {},
   "source": [
    "1. Известно, что генеральная совокупность распределена нормально со средним квадратическим отклонением, равным 16. Найти доверительный интервал для оценки математического ожидания с надежностью 0.95, если выборочная средняя M = 80, а объем выборки n = 256.\n",
    "\n",
    "Так как известно, что генеральная совокупность распределена нормально с $\\sigma=16$, то для расчета доверительного интервала будем использовать $z$-критерий.\n",
    "\n",
    "$\\overline{X} \\pm z_{\\alpha/2} \\cdot \\frac{\\sigma}{\\sqrt{n}}$\n",
    "\n",
    "$\\overline{X} = 80$\n",
    "\n",
    "$\\sigma = 16$, $n = 256$\n",
    "\n",
    "$\\alpha = 0.05$\n",
    "\n",
    "Из $z$-таблицы $z_{0.025} = 1.96$\n",
    "\n",
    "Таким образом, искомый доверительный интервал:\n",
    "\n",
    "$\\bigl[80-1.96\\cdot \\frac{16}{\\sqrt{256}} ; 80+1.96\\cdot \\frac{16}{\\sqrt{256}}\\bigr]$\n",
    "\n",
    "$\\bigl[80-1.96 ; 80+1.96\\bigr]$\n",
    "\n",
    "$\\bigl[78.04 ; 81.96\\bigr]$"
   ]
  },
  {
   "cell_type": "markdown",
   "metadata": {},
   "source": [
    "2. В результате 10 независимых измерений некоторой величины X, выполненных с одинаковой точностью, получены опытные данные: 6.9, 6.1, 6.2, 6.8, 7.5, 6.3, 6.4, 6.9, 6.7, 6.1. Предполагая, что результаты измерений подчинены нормальному закону распределения вероятностей, оценить истинное значение величины X при помощи доверительного интервала, покрывающего это значение с доверительной вероятностью 0,95.\n",
    "\n",
    "Предполагаем, что результаты измерений подчинены нормальному закону распределения, однако среднее квадратичное отклонение нам неизвестно, поэтому для расчета доверительного интервала будем использовать критерий Стьюдента и несмещенную оценку дисперсии по имеющейся выборке.\n",
    "\n",
    "$\\overline{X} \\pm t_{\\alpha/2} \\cdot \\frac{\\sigma_{н}}{\\sqrt{n}}$"
   ]
  },
  {
   "cell_type": "code",
   "execution_count": 1,
   "metadata": {},
   "outputs": [],
   "source": [
    "import numpy as np"
   ]
  },
  {
   "cell_type": "code",
   "execution_count": 4,
   "metadata": {},
   "outputs": [
    {
     "data": {
      "text/plain": [
       "array([6.9, 6.1, 6.2, 6.8, 7.5, 6.3, 6.4, 6.9, 6.7, 6.1])"
      ]
     },
     "execution_count": 4,
     "metadata": {},
     "output_type": "execute_result"
    }
   ],
   "source": [
    "x = np.array([6.9, 6.1, 6.2, 6.8, 7.5, 6.3, 6.4, 6.9, 6.7, 6.1])\n",
    "x"
   ]
  },
  {
   "cell_type": "code",
   "execution_count": 5,
   "metadata": {},
   "outputs": [
    {
     "data": {
      "text/plain": [
       "6.590000000000001"
      ]
     },
     "execution_count": 5,
     "metadata": {},
     "output_type": "execute_result"
    }
   ],
   "source": [
    "x_ = x.mean()\n",
    "x_"
   ]
  },
  {
   "cell_type": "code",
   "execution_count": 6,
   "metadata": {},
   "outputs": [
    {
     "data": {
      "text/plain": [
       "0.4508017549014448"
      ]
     },
     "execution_count": 6,
     "metadata": {},
     "output_type": "execute_result"
    }
   ],
   "source": [
    "sigma = x.std(ddof=1)\n",
    "sigma"
   ]
  },
  {
   "cell_type": "markdown",
   "metadata": {},
   "source": [
    "$\\alpha=0.05$\n",
    "\n",
    "$n=10$\n",
    "\n",
    "Из таблицы критериев Стьюдента:\n",
    "\n",
    "$t_{\\alpha/2}=t_{0.025}=2.262$\n",
    "\n",
    "Левая граница доверительного интервала:"
   ]
  },
  {
   "cell_type": "code",
   "execution_count": 9,
   "metadata": {},
   "outputs": [
    {
     "data": {
      "text/plain": [
       "6.267538255912426"
      ]
     },
     "execution_count": 9,
     "metadata": {},
     "output_type": "execute_result"
    }
   ],
   "source": [
    "x_ - 2.262 * sigma / 10**0.5"
   ]
  },
  {
   "cell_type": "markdown",
   "metadata": {},
   "source": [
    "Правая граница доверительного интервала:"
   ]
  },
  {
   "cell_type": "code",
   "execution_count": 10,
   "metadata": {},
   "outputs": [
    {
     "data": {
      "text/plain": [
       "6.912461744087575"
      ]
     },
     "execution_count": 10,
     "metadata": {},
     "output_type": "execute_result"
    }
   ],
   "source": [
    "x_ + 2.262 * sigma / 10**0.5"
   ]
  },
  {
   "cell_type": "markdown",
   "metadata": {},
   "source": [
    "Таким образом, искомый доверительный интервал:\n",
    "\n",
    "$\\bigl[ 6.268 ; 6.912 \\bigr]$"
   ]
  },
  {
   "cell_type": "markdown",
   "metadata": {},
   "source": [
    "3. Утверждается, что шарики для подшипников, изготовленные автоматическим станком, имеют средний диаметр 17 мм. Используя односторонний критерий с α=0,05, проверить эту гипотезу, если в выборке из n=100 шариков средний диаметр оказался равным 17.5 мм, а дисперсия известна и равна 4 кв.мм.\n",
    "\n",
    "$H_0: \\mu = \\mu_0$\n",
    "\n",
    "$H_1: \\mu > \\mu_0$\n",
    "\n",
    "Известно, что\n",
    "\n",
    "$\\mu_0 = 17$\n",
    "\n",
    "$\\overline{X} = 17.5$\n",
    "\n",
    "$\\alpha = 0.05$\n",
    "\n",
    "$n = 100$\n",
    "\n",
    "$\\sigma^2 = 4$, значит $\\sigma = 2$\n",
    "\n",
    "Предположим, что в выборке из 100 шариков диаметр подчиняется нормальному закону распределения (согласно ЦПТ). Кроме того, дисперсия известна. Поэтому для проверки гипотезы будем использовать $z$-тест.\n",
    "\n",
    "$Z_{н}=\\frac{\\overline{X}-\\mu_0}{\\sigma / \\sqrt{n}}$\n",
    "\n",
    "$Z_{н}=\\frac{17.5-17}{2/10}=\\frac{0.5}{0.2}=2.5$\n",
    "\n",
    "Из $z$-таблиц находим расчетное значение:\n",
    "\n",
    "$Z_{р}=Z_{\\alpha}=Z_{0.05}=1.645$\n",
    "\n",
    "$2.5>1.645$, значит $Z_{н}>Z{р}$ и нулевая гипотеза неверна с вероятностью ошибки 5%. Принимаем альтернативную гипотезу $H_1$."
   ]
  },
  {
   "cell_type": "markdown",
   "metadata": {},
   "source": [
    "4. Продавец утверждает, что средний вес пачки печенья составляет 200 г. Из партии извлечена выборка из 10 пачек. Вес каждой пачки составляет: 202, 203, 199, 197, 195, 201, 200, 204, 194, 190. Известно, что их веса распределены нормально. Верно ли утверждение продавца, если учитывать, что доверительная вероятность равна 99%?\n",
    "\n",
    "$H_0: \\mu = \\mu_0$\n",
    "\n",
    "$H_1: \\mu \\ne \\mu_0$\n",
    "\n",
    "Так как веса распредены нормально, а дисперсия генеральной совокупности неизвестна, то для проверки гипотезы будем использовать критерий Стьюдента и несмещенную оценку дисперсии из имеющейся выборки."
   ]
  },
  {
   "cell_type": "code",
   "execution_count": 11,
   "metadata": {},
   "outputs": [
    {
     "data": {
      "text/plain": [
       "array([202, 203, 199, 197, 195, 201, 200, 204, 194, 190])"
      ]
     },
     "execution_count": 11,
     "metadata": {},
     "output_type": "execute_result"
    }
   ],
   "source": [
    "x = np.array([202, 203, 199, 197, 195, 201, 200, 204, 194, 190])\n",
    "x"
   ]
  },
  {
   "cell_type": "code",
   "execution_count": 12,
   "metadata": {},
   "outputs": [
    {
     "data": {
      "text/plain": [
       "198.5"
      ]
     },
     "execution_count": 12,
     "metadata": {},
     "output_type": "execute_result"
    }
   ],
   "source": [
    "x_ = x.mean()\n",
    "x_"
   ]
  },
  {
   "cell_type": "code",
   "execution_count": 13,
   "metadata": {},
   "outputs": [
    {
     "data": {
      "text/plain": [
       "4.453463071962462"
      ]
     },
     "execution_count": 13,
     "metadata": {},
     "output_type": "execute_result"
    }
   ],
   "source": [
    "sigma = x.std(ddof=1)\n",
    "sigma"
   ]
  },
  {
   "cell_type": "markdown",
   "metadata": {},
   "source": [
    "Таким образом,\n",
    "\n",
    "$\\overline{X}=198.5$\n",
    "\n",
    "$\\mu_0=200$\n",
    "\n",
    "$n=10$\n",
    "\n",
    "$\\sigma_{н}=4.45$\n",
    "\n",
    "$\\alpha=0.01$\n",
    "\n",
    "$t_{н}=\\frac{\\overline{X}-\\mu_0}{\\sigma_{н} / \\sqrt{n}}$"
   ]
  },
  {
   "cell_type": "code",
   "execution_count": 14,
   "metadata": {},
   "outputs": [
    {
     "data": {
      "text/plain": [
       "-1.0651074037450896"
      ]
     },
     "execution_count": 14,
     "metadata": {},
     "output_type": "execute_result"
    }
   ],
   "source": [
    "(x_ - 200) / (sigma / 10**0.5)"
   ]
  },
  {
   "cell_type": "markdown",
   "metadata": {},
   "source": [
    "$t_{н}=-1.065$\n",
    "\n",
    "Из $t$-таблиц находим расчетное значение:\n",
    "\n",
    "$t_{р}=t_{\\alpha/2}=t_{0.005}=3.250$\n",
    "\n",
    "То есть область принятия нулевой гипотезы лежит между $t_{н}=-3.250$ и $t_{н}=3.250$.\n",
    "\n",
    "$-3.250<-1.065<3.250$, значит нулевая гипотеза верна с доверительной вероятностью 99%."
   ]
  },
  {
   "cell_type": "code",
   "execution_count": null,
   "metadata": {},
   "outputs": [],
   "source": []
  }
 ],
 "metadata": {
  "kernelspec": {
   "display_name": "Python 3",
   "language": "python",
   "name": "python3"
  },
  "language_info": {
   "codemirror_mode": {
    "name": "ipython",
    "version": 3
   },
   "file_extension": ".py",
   "mimetype": "text/x-python",
   "name": "python",
   "nbconvert_exporter": "python",
   "pygments_lexer": "ipython3",
   "version": "3.8.5"
  }
 },
 "nbformat": 4,
 "nbformat_minor": 4
}
